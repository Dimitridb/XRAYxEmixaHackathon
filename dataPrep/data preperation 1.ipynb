{
 "cells": [
  {
   "cell_type": "markdown",
   "metadata": {},
   "source": [
    "## Load the necessary Libraries"
   ]
  },
  {
   "cell_type": "code",
   "execution_count": 1,
   "metadata": {},
   "outputs": [],
   "source": [
    "import os\n",
    "import pandas as pd\n"
   ]
  },
  {
   "cell_type": "code",
   "execution_count": 3,
   "metadata": {},
   "outputs": [
    {
     "name": "stdout",
     "output_type": "stream",
     "text": [
      "Current working directory: C:\\Users\\DimitrideBoer\\OneDrive - Emixa\\Documents\\XRAYxEmixaHackathon\n"
     ]
    }
   ],
   "source": [
    "import os\n",
    "\n",
    "# Path to the desired directory\n",
    "desired_directory = r'C:\\Users\\DimitrideBoer\\OneDrive - Emixa\\Documents\\XRAYxEmixaHackathon'\n",
    "\n",
    "# Set the current working directory to the desired directory\n",
    "os.chdir(desired_directory)\n",
    "\n",
    "# Print the current working directory to confirm\n",
    "print(\"Current working directory:\", os.getcwd())\n"
   ]
  },
  {
   "cell_type": "markdown",
   "metadata": {},
   "source": [
    "## Load all the files and put them in dataframes and look for mixed data types\n"
   ]
  },
  {
   "cell_type": "code",
   "execution_count": 6,
   "metadata": {},
   "outputs": [
    {
     "name": "stdout",
     "output_type": "stream",
     "text": [
      "DataFrame 'account' has mixed data types in the following columns:\n",
      "  - email\n",
      "  - displayname\n",
      "  - displayrole\n",
      "  - displaycompany\n",
      "DataFrame 'auctionwindow' has mixed data types in the following columns:\n",
      "  - changedate\n",
      "DataFrame 'bid' has mixed data types in the following columns:\n",
      "  - bidlog\n",
      "  - bidstatus\n",
      "  - createddate\n",
      "  - bidremarktrader\n",
      "  - forcustomeracceptance\n",
      "DataFrame 'bridgeAuctionwindowStatistics' has no columns with mixed data types.\n",
      "DataFrame 'bridgeBidContact' has no columns with mixed data types.\n",
      "DataFrame 'bridgeBidOrder' has no columns with mixed data types.\n",
      "DataFrame 'bridgeCarOrder' has no columns with mixed data types.\n",
      "DataFrame 'bridgeContactAccount' has no columns with mixed data types.\n",
      "DataFrame 'bridgeContactCompany' has no columns with mixed data types.\n",
      "DataFrame 'bridgeContactTraderstatistic' has no columns with mixed data types.\n",
      "DataFrame 'bridgeOrderAuctionwindow' has no columns with mixed data types.\n",
      "DataFrame 'bridgeStatisticsTraderstatistics' has no columns with mixed data types.\n",
      "DataFrame 'car' has mixed data types in the following columns:\n",
      "  - xrl_calculationdate\n",
      "  - tirerating\n",
      "  - xrl_programversion\n",
      "  - electricalrating\n",
      "  - fueltype\n",
      "  - interiorcolor\n",
      "  - registration\n",
      "  - cartypename\n",
      "  - calculationguid\n",
      "  - cartaxationremarks\n",
      "  - interiorrating\n",
      "  - modelname\n",
      "  - carbidremarks\n",
      "  - carremarks\n",
      "  - vatmargin\n",
      "  - chassisnb\n",
      "  - rdwdescription\n",
      "  - cardamageremarks\n",
      "  - maintenancedate\n",
      "  - mechanicalrating\n",
      "  - duedateapk\n",
      "  - modelnameshort\n",
      "  - bodytype\n",
      "  - exteriorrating\n",
      "  - display_carphotos\n",
      "  - datevehicleregistration\n",
      "  - dateascription\n",
      "  - exteriorcolor\n",
      "  - extrapackagedescription\n",
      "  - vehicletype\n",
      "  - carremarksxray\n",
      "  - xrl_databaseversion\n",
      "  - transmissiontype\n",
      "  - cartypeextention\n",
      "  - datefirstadmission\n",
      "  - expecteddeliverydate\n",
      "  - display_carphotosisdamage\n",
      "  - amountofkeys\n",
      "  - carstatus\n",
      "  - display_carphotoschangeddate\n",
      "  - maintainancehistory\n",
      "  - tyretype\n",
      "  - migration_brand\n",
      "  - range\n",
      "  - batterycapacity\n",
      "  - rdweuroclass\n",
      "  - taxliabilityappluntil\n",
      "  - taxliabilitypercentage\n",
      "DataFrame 'company' has mixed data types in the following columns:\n",
      "  - xrl_companyguid\n",
      "  - city\n",
      "  - companytype\n",
      "  - postcode\n",
      "  - companyname\n",
      "  - phone\n",
      "  - vendortype\n",
      "  - street\n",
      "  - updatedon\n",
      "  - emailgeneral\n",
      "  - createdon\n",
      "  - fax\n",
      "  - emaildirect\n",
      "  - holding\n",
      "  - groep\n",
      "  - province\n",
      "  - billingemailaddress\n",
      "  - website\n",
      "DataFrame 'contact' has mixed data types in the following columns:\n",
      "  - xrl_contactguid\n",
      "  - city\n",
      "  - initials\n",
      "  - mobile\n",
      "  - phone\n",
      "  - street\n",
      "  - updatedon\n",
      "  - contactfirstname\n",
      "  - createdon\n",
      "  - postcode\n",
      "  - fax\n",
      "  - contactname\n",
      "  - emaildirect\n",
      "  - contactpassword\n",
      "DataFrame 'order' has mixed data types in the following columns:\n",
      "  - linkseller\n",
      "  - externalsourcetype\n",
      "  - gaspedaalurl\n",
      "  - xraynotes\n",
      "  - updatedon\n",
      "  - createdon\n",
      "  - auctionexpiry\n",
      "  - xraynotes2\n",
      "  - linkbuyer\n",
      "  - acceptanceperiod\n",
      "  - buyerstatus\n",
      "  - vendortype\n",
      "  - xraystatus\n",
      "  - sellerstatus\n",
      "  - totalcarcost\n",
      "  - orderstatusoriginal\n",
      "  - dateavailablebids\n",
      "  - laststatuschangeddate\n",
      "  - datesalecancelled\n",
      "  - autotelexcombination\n",
      "  - spotchangeddate\n",
      "  - acceptanceperiodextended\n",
      "  - acceptedbiddatetime\n",
      "  - acceptanceperiodextendedbeforechange\n",
      "  - dateordercancelled\n",
      "DataFrame 'statistics' has mixed data types in the following columns:\n",
      "  - auctiondate\n",
      "DataFrame 'traderstatistic' has no columns with mixed data types.\n",
      "DataFrame 'user' has mixed data types in the following columns:\n",
      "  - lastlogin\n",
      "  - blockedsince\n"
     ]
    }
   ],
   "source": [
    "import os\n",
    "import pandas as pd\n",
    "\n",
    "# Define the directory containing the files\n",
    "directory = 'NewData'\n",
    "\n",
    "# Loop over all files in the directory\n",
    "for filename in os.listdir(directory):\n",
    "    # Construct the full file path\n",
    "    file_path = os.path.join(directory, filename)\n",
    "\n",
    "    # Load the CSV file into a DataFrame\n",
    "    df = pd.read_csv(file_path, low_memory=False, on_bad_lines='skip')\n",
    "\n",
    "    # Create a valid Python variable name by removing the file extension and replacing spaces with underscores\n",
    "    variable_name = os.path.splitext(filename)[0].replace(' ', '_')\n",
    "\n",
    "    # Dynamically create a variable with the DataFrame\n",
    "    globals()[variable_name] = df\n",
    "\n",
    "    # Check for mixed data types in the DataFrame\n",
    "    mixed_type_columns = []\n",
    "    for col in df.columns:\n",
    "        if df[col].apply(type).nunique() > 1:\n",
    "            mixed_type_columns.append(col)\n",
    "\n",
    "    # Output the columns with mixed data types\n",
    "    if mixed_type_columns:\n",
    "        print(f\"DataFrame '{variable_name}' has mixed data types in the following columns:\")\n",
    "        for col in mixed_type_columns:\n",
    "            print(f\"  - {col}\")\n",
    "    else:\n",
    "        print(f\"DataFrame '{variable_name}' has no columns with mixed data types.\")\n"
   ]
  },
  {
   "cell_type": "markdown",
   "metadata": {},
   "source": [
    "## Join all dataframes in one single dataframe"
   ]
  },
  {
   "cell_type": "code",
   "execution_count": 7,
   "metadata": {},
   "outputs": [],
   "source": [
    "import pandas as pd\n",
    "\n",
    "def find_shared_columns(df1, df2):\n",
    "    \"\"\"\n",
    "    Finds and returns the shared columns between two dataframes.\n",
    "\n",
    "    Parameters:\n",
    "    df1 (pd.DataFrame): The first dataframe.\n",
    "    df2 (pd.DataFrame): The second dataframe.\n",
    "\n",
    "    Returns:\n",
    "    list: A list of shared column names.\n",
    "    \"\"\"\n",
    "    # Get the column names of both dataframes\n",
    "    columns_df1 = set(df1.columns)\n",
    "    columns_df2 = set(df2.columns)\n",
    "    \n",
    "    # Find the intersection of the two sets of column names\n",
    "    shared_columns = columns_df1.intersection(columns_df2)\n",
    "    \n",
    "    # Return the shared columns as a list\n",
    "    return list(shared_columns)\n",
    "\n",
    "#Easy way to find shared columns (if they have the same name.)"
   ]
  },
  {
   "cell_type": "code",
   "execution_count": 8,
   "metadata": {},
   "outputs": [
    {
     "data": {
      "text/plain": [
       "['updatedon', 'orderid', 'id', 'createdon']"
      ]
     },
     "execution_count": 8,
     "metadata": {},
     "output_type": "execute_result"
    }
   ],
   "source": [
    "order = pd.read_csv(r'NewData/order.csv', low_memory=False, on_bad_lines='skip')\n",
    "car = pd.read_csv(r'NewData/car.csv', low_memory=False, on_bad_lines='skip')\n",
    "user = pd.read_csv(r'NewData/.csv', low_memory=False, on_bad_lines='skip')\n",
    "find_shared_columns(order, car)"
   ]
  },
  {
   "cell_type": "code",
   "execution_count": null,
   "metadata": {},
   "outputs": [],
   "source": []
  }
 ],
 "metadata": {
  "kernelspec": {
   "display_name": "venv",
   "language": "python",
   "name": "python3"
  },
  "language_info": {
   "codemirror_mode": {
    "name": "ipython",
    "version": 3
   },
   "file_extension": ".py",
   "mimetype": "text/x-python",
   "name": "python",
   "nbconvert_exporter": "python",
   "pygments_lexer": "ipython3",
   "version": "3.11.9"
  }
 },
 "nbformat": 4,
 "nbformat_minor": 2
}
