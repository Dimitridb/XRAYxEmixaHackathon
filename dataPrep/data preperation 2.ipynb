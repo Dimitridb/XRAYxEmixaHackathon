{
 "cells": [
  {
   "cell_type": "markdown",
   "metadata": {},
   "source": [
    "## Load the necessary Libraries"
   ]
  },
  {
   "cell_type": "code",
   "execution_count": 1,
   "metadata": {},
   "outputs": [],
   "source": [
    "import os\n",
    "import pandas as pd\n"
   ]
  },
  {
   "cell_type": "code",
   "execution_count": 2,
   "metadata": {},
   "outputs": [
    {
     "name": "stdout",
     "output_type": "stream",
     "text": [
      "Current working directory: c:\\Users\\BasRuhl\\OneDrive - Emixa\\Documents\\XRAYxEmixaHackathon\n"
     ]
    }
   ],
   "source": [
    "import os\n",
    "\n",
    "# Path to the desired directory\n",
    "desired_directory = r'c:\\Users\\BasRuhl\\OneDrive - Emixa\\Documents\\XRAYxEmixaHackathon'\n",
    "\n",
    "# Set the current working directory to the desired directory\n",
    "os.chdir(desired_directory)\n",
    "\n",
    "# Print the current working directory to confirm\n",
    "print(\"Current working directory:\", os.getcwd())\n"
   ]
  },
  {
   "cell_type": "markdown",
   "metadata": {},
   "source": [
    "## Load all the files and put them in dataframes and look for mixed data types\n"
   ]
  },
  {
   "cell_type": "code",
   "execution_count": 3,
   "metadata": {},
   "outputs": [
    {
     "name": "stdout",
     "output_type": "stream",
     "text": [
      "DataFrame 'account' has mixed data types in the following columns:\n",
      "  - email\n",
      "  - displayname\n",
      "  - displayrole\n",
      "  - displaycompany\n",
      "DataFrame 'auctionwindow' has mixed data types in the following columns:\n",
      "  - changedate\n",
      "DataFrame 'bid' has mixed data types in the following columns:\n",
      "  - bidlog\n",
      "  - bidstatus\n",
      "  - createddate\n",
      "  - bidremarktrader\n",
      "  - forcustomeracceptance\n",
      "DataFrame 'bridgeAuctionwindowStatistics' has no columns with mixed data types.\n",
      "DataFrame 'bridgeBidContact' has no columns with mixed data types.\n",
      "DataFrame 'bridgeBidOrder' has no columns with mixed data types.\n",
      "DataFrame 'bridgeCarOrder' has no columns with mixed data types.\n",
      "DataFrame 'bridgeContactAccount' has no columns with mixed data types.\n",
      "DataFrame 'bridgeContactCompany' has no columns with mixed data types.\n",
      "DataFrame 'bridgeContactTraderstatistic' has no columns with mixed data types.\n",
      "DataFrame 'bridgeOrderAuctionwindow' has no columns with mixed data types.\n",
      "DataFrame 'bridgeStatisticsTraderstatistics' has no columns with mixed data types.\n",
      "DataFrame 'car' has mixed data types in the following columns:\n",
      "  - xrl_calculationdate\n",
      "  - tirerating\n",
      "  - xrl_programversion\n",
      "  - electricalrating\n",
      "  - fueltype\n",
      "  - interiorcolor\n",
      "  - registration\n",
      "  - cartypename\n",
      "  - calculationguid\n",
      "  - cartaxationremarks\n",
      "  - interiorrating\n",
      "  - modelname\n",
      "  - carbidremarks\n",
      "  - carremarks\n",
      "  - vatmargin\n",
      "  - chassisnb\n",
      "  - rdwdescription\n",
      "  - cardamageremarks\n",
      "  - maintenancedate\n",
      "  - mechanicalrating\n",
      "  - duedateapk\n",
      "  - modelnameshort\n",
      "  - bodytype\n",
      "  - exteriorrating\n",
      "  - display_carphotos\n",
      "  - datevehicleregistration\n",
      "  - dateascription\n",
      "  - exteriorcolor\n",
      "  - extrapackagedescription\n",
      "  - vehicletype\n",
      "  - carremarksxray\n",
      "  - xrl_databaseversion\n",
      "  - transmissiontype\n",
      "  - cartypeextention\n",
      "  - datefirstadmission\n",
      "  - expecteddeliverydate\n",
      "  - display_carphotosisdamage\n",
      "  - amountofkeys\n",
      "  - carstatus\n",
      "  - display_carphotoschangeddate\n",
      "  - maintainancehistory\n",
      "  - tyretype\n",
      "  - migration_brand\n",
      "  - range\n",
      "  - batterycapacity\n",
      "  - rdweuroclass\n",
      "  - taxliabilityappluntil\n",
      "  - taxliabilitypercentage\n",
      "DataFrame 'company' has mixed data types in the following columns:\n",
      "  - xrl_companyguid\n",
      "  - city\n",
      "  - companytype\n",
      "  - postcode\n",
      "  - companyname\n",
      "  - phone\n",
      "  - vendortype\n",
      "  - street\n",
      "  - updatedon\n",
      "  - emailgeneral\n",
      "  - createdon\n",
      "  - fax\n",
      "  - emaildirect\n",
      "  - holding\n",
      "  - groep\n",
      "  - province\n",
      "  - billingemailaddress\n",
      "  - website\n",
      "DataFrame 'contact' has mixed data types in the following columns:\n",
      "  - xrl_contactguid\n",
      "  - city\n",
      "  - initials\n",
      "  - mobile\n",
      "  - phone\n",
      "  - street\n",
      "  - updatedon\n",
      "  - contactfirstname\n",
      "  - createdon\n",
      "  - postcode\n",
      "  - fax\n",
      "  - contactname\n",
      "  - emaildirect\n",
      "  - contactpassword\n",
      "DataFrame 'order' has mixed data types in the following columns:\n",
      "  - linkseller\n",
      "  - externalsourcetype\n",
      "  - gaspedaalurl\n",
      "  - xraynotes\n",
      "  - updatedon\n",
      "  - createdon\n",
      "  - auctionexpiry\n",
      "  - xraynotes2\n",
      "  - linkbuyer\n",
      "  - acceptanceperiod\n",
      "  - buyerstatus\n",
      "  - vendortype\n",
      "  - xraystatus\n",
      "  - sellerstatus\n",
      "  - totalcarcost\n",
      "  - orderstatusoriginal\n",
      "  - dateavailablebids\n",
      "  - laststatuschangeddate\n",
      "  - datesalecancelled\n",
      "  - autotelexcombination\n",
      "  - spotchangeddate\n",
      "  - acceptanceperiodextended\n",
      "  - acceptedbiddatetime\n",
      "  - acceptanceperiodextendedbeforechange\n",
      "  - dateordercancelled\n",
      "DataFrame 'statistics' has mixed data types in the following columns:\n",
      "  - auctiondate\n",
      "DataFrame 'traderstatistic' has no columns with mixed data types.\n",
      "DataFrame 'user' has mixed data types in the following columns:\n",
      "  - lastlogin\n",
      "  - blockedsince\n"
     ]
    }
   ],
   "source": [
    "import os\n",
    "import pandas as pd\n",
    "\n",
    "# Define the directory containing the files\n",
    "directory = 'data'\n",
    "\n",
    "# Loop over all files in the directory\n",
    "for filename in os.listdir(directory):\n",
    "    # Construct the full file path\n",
    "    file_path = os.path.join(directory, filename)\n",
    "\n",
    "    # Load the CSV file into a DataFrame\n",
    "    df = pd.read_csv(file_path, sep = \",\", low_memory=False)\n",
    "    # Create a valid Python variable name by removing the file extension and replacing spaces with underscores\n",
    "    variable_name = os.path.splitext(filename)[0].replace(' ', '_')\n",
    "\n",
    "    # Dynamically create a variable with the DataFrame\n",
    "    globals()[variable_name] = df\n",
    "\n",
    "    # Check for mixed data types in the DataFrame\n",
    "    mixed_type_columns = []\n",
    "    for col in df.columns:\n",
    "        if df[col].apply(type).nunique() > 1:\n",
    "            mixed_type_columns.append(col)\n",
    "\n",
    "    # Output the columns with mixed data types\n",
    "    if mixed_type_columns:\n",
    "        print(f\"DataFrame '{variable_name}' has mixed data types in the following columns:\")\n",
    "        for col in mixed_type_columns:\n",
    "            print(f\"  - {col}\")\n",
    "    else:\n",
    "        print(f\"DataFrame '{variable_name}' has no columns with mixed data types.\")\n"
   ]
  },
  {
   "cell_type": "markdown",
   "metadata": {},
   "source": [
    "## Drop redundant columns\n"
   ]
  },
  {
   "cell_type": "code",
   "execution_count": 6,
   "metadata": {},
   "outputs": [],
   "source": [
    "# Select columns in auctionwindow\n",
    "auctionwindow = auctionwindow[['id', 'startdate', 'enddate', 'changedate', 'count', 'maxorderamount']]\n",
    "\n",
    "# Select columns in Bid and perform one hot encoding \n",
    "bid = bid[['bidvalue', 'bidstatus', 'companyid', 'auctionwindowid', 'basedonvalue', 'orderid']]\n",
    "bid.loc[:, 'bidstatus'] = bid['bidstatus'].fillna('Unknown')\n",
    "bid_encoded = pd.get_dummies(bid, columns=['bidstatus'], prefix='bidstatus')\n",
    "\n",
    "# Select columns in car\n",
    "car  = car.drop(columns=['id'])"
   ]
  },
  {
   "cell_type": "markdown",
   "metadata": {},
   "source": [
    "## Dataset for recommender system"
   ]
  },
  {
   "cell_type": "code",
   "execution_count": 6,
   "metadata": {},
   "outputs": [],
   "source": [
    "# Start with a base DataFrame\n",
    "dataRecommenderSystem = order.drop(columns=['id'])\n",
    "\n",
    "# Merge order with car \n",
    "dataRecommenderSystem = pd.merge(dataRecommenderSystem, on='orderid', how='inner')\n",
    "\n",
    "# Merge the resulting DataFrame with bid\n",
    "dataRecommenderSystem = pd.merge(dataRecommenderSystem, bid, on='orderid', how='inner')\n",
    "\n",
    "# Merge the resulting DataFrame with bid\n",
    "dataRecommenderSystem = pd.merge(dataRecommenderSystem, company, on='companyid', how='inner', suffixes=('_BidCarOrder', '_Company'))\n",
    "\n",
    "#Write the final DataFrame to a CSV file\n",
    "dataRecommenderSystem.to_csv('datasets/RecommenderSystem.csv', index=False)\n",
    "\n",
    "#Delete the dataRecommenderSystem and mergedBridge DataFrame to free up memory\n",
    "del dataRecommenderSystem"
   ]
  },
  {
   "cell_type": "markdown",
   "metadata": {},
   "source": [
    "## Dataset voor populariteit systeem"
   ]
  },
  {
   "cell_type": "code",
   "execution_count": 5,
   "metadata": {},
   "outputs": [
    {
     "name": "stdout",
     "output_type": "stream",
     "text": [
      "<class 'pandas.core.frame.DataFrame'>\n",
      "RangeIndex: 373032 entries, 0 to 373031\n",
      "Columns: 148 entries, idOrder to isxbsdirectcar\n",
      "dtypes: float64(31), int64(37), object(80)\n",
      "memory usage: 421.2+ MB\n",
      "None\n",
      "<class 'pandas.core.frame.DataFrame'>\n",
      "RangeIndex: 1646103 entries, 0 to 1646102\n",
      "Columns: 164 entries, idOrder to forcustomeracceptance\n",
      "dtypes: float64(36), int64(41), object(87)\n",
      "memory usage: 2.0+ GB\n",
      "None\n",
      "<class 'pandas.core.frame.DataFrame'>\n",
      "RangeIndex: 1588474 entries, 0 to 1588473\n",
      "Columns: 180 entries, idOrder to maxorderamount\n",
      "dtypes: float64(37), int64(49), object(94)\n",
      "memory usage: 2.1+ GB\n",
      "None\n"
     ]
    }
   ],
   "source": [
    "# Start with a base DataFrame\n",
    "dataPopularitySystem = order.rename(columns={'id': 'idOrder'})\n",
    "\n",
    "# Merge order with car \n",
    "dataPopularitySystem = pd.merge(dataPopularitySystem,  on='orderid', how='inner')\n",
    "\n",
    "# Merge the resulting DataFrame with bid\n",
    "dataPopularitySystem = pd.merge(dataPopularitySystem, bid.drop(columns=['id']), on='orderid', how='inner')\n",
    "\n",
    "# Merge the resulting DataFrame with auctionwindow\n",
    "mergedBridge = pd.merge(bridgeOrderAuctionwindow, auctionwindow.rename(columns={'id': 'idAuctionwindow'}), left_on='xbs$auctionwindowid', right_on='idAuctionwindow', how='inner')\n",
    "dataPopularitySystem = pd.merge(dataPopularitySystem, mergedBridge, left_on='idOrder', right_on='xbs$orderid', how='inner') #Maybe join via bid, but not sure if all data is kept \n",
    "\n",
    "# Merge the resulting DataFrame with statistics\n",
    "mergedBridge = pd.merge(bridgeAuctionwindowStatistics, statistics.rename(columns={'id': 'idStatistics'}), left_on='xbs$statisticsid', right_on='idStatistics', how='inner')\n",
    "dataPopularitySystem = pd.merge(dataPopularitySystem, mergedBridge, left_on='idAuctionwindow', right_on='xbs$auctionwindowid', how='inner') #maybe join via?\n",
    "\n",
    "#Write the final DataFrame to a CSV file\n",
    "dataPopularitySystem.to_csv('datasets/PopularitySystem.csv', index=False)\n",
    "\n",
    "#Delete the dataPopularitySystem and mergedBridge DataFrame to free up memory\n",
    "del dataPopularitySystem\n",
    "del mergedBridge\n"
   ]
  }
 ],
 "metadata": {
  "kernelspec": {
   "display_name": "venv",
   "language": "python",
   "name": "python3"
  },
  "language_info": {
   "codemirror_mode": {
    "name": "ipython",
    "version": 3
   },
   "file_extension": ".py",
   "mimetype": "text/x-python",
   "name": "python",
   "nbconvert_exporter": "python",
   "pygments_lexer": "ipython3",
   "version": "3.12.3"
  }
 },
 "nbformat": 4,
 "nbformat_minor": 2
}
