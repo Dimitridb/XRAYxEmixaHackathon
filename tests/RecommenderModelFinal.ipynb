{
 "cells": [
  {
   "cell_type": "code",
   "execution_count": 16,
   "metadata": {},
   "outputs": [
    {
     "name": "stderr",
     "output_type": "stream",
     "text": [
      "C:\\Users\\DimitrideBoer\\AppData\\Local\\Temp\\ipykernel_18596\\2570252936.py:6: DtypeWarning: Columns (3,6,18,21,28,31,32,42,51,53,61,64,66,70,75,78,80,82,83,85,86,87) have mixed types. Specify dtype option on import or set low_memory=False.\n",
      "  data = pd.read_csv(r'C:\\Users\\DimitrideBoer\\OneDrive - Emixa\\Documents\\XRAYxEmixaHackathon\\data\\car 1.csv')\n"
     ]
    }
   ],
   "source": [
    "import pandas as pd\n",
    "from datetime import datetime\n",
    "\n",
    "# Merge the datasets\n",
    "#data = pd.read_csv(r'C:\\Users\\DimitrideBoer\\OneDrive - Emixa\\Documents\\XRAYxEmixaHackathon\\data\\RecommenderSystem_withoutcompany300520241508.csv')\n",
    "data = pd.read_csv(r'C:\\Users\\DimitrideBoer\\OneDrive - Emixa\\Documents\\XRAYxEmixaHackathon\\data\\car 1.csv')\n",
    "data['createdon'] = pd.to_datetime(data['createdon'])"
   ]
  },
  {
   "cell_type": "code",
   "execution_count": 17,
   "metadata": {},
   "outputs": [],
   "source": [
    "data = data[data['createdon'] >= (datetime.now() - pd.DateOffset(years=3))]"
   ]
  },
  {
   "cell_type": "code",
   "execution_count": 18,
   "metadata": {},
   "outputs": [],
   "source": [
    "# Function to convert columns\n",
    "def convert_columns(df):\n",
    "    for column in df.columns:\n",
    "        if column.startswith('is') or column.startswith('has'):\n",
    "            df[column] = df[column].astype(bool)\n",
    "        else:\n",
    "            if pd.api.types.is_numeric_dtype(df[column]):\n",
    "                df[column] = pd.to_numeric(df[column], errors='coerce')\n",
    "            else:\n",
    "                df[column] = df[column].astype(str)\n",
    "    return df"
   ]
  },
  {
   "cell_type": "code",
   "execution_count": 19,
   "metadata": {},
   "outputs": [],
   "source": [
    "data = convert_columns(data)"
   ]
  },
  {
   "cell_type": "code",
   "execution_count": 20,
   "metadata": {},
   "outputs": [
    {
     "data": {
      "text/plain": [
       "['migration_brand', 'brandname']"
      ]
     },
     "execution_count": 20,
     "metadata": {},
     "output_type": "execute_result"
    }
   ],
   "source": [
    "[i for i in data.columns if 'brand' in i]"
   ]
  },
  {
   "cell_type": "code",
   "execution_count": 5,
   "metadata": {},
   "outputs": [],
   "source": [
    "from sklearn.preprocessing import StandardScaler, OneHotEncoder\n",
    "from sklearn.compose import ColumnTransformer\n",
    "from sklearn.pipeline import Pipeline\n",
    "from sklearn.impute import SimpleImputer"
   ]
  },
  {
   "cell_type": "code",
   "execution_count": 21,
   "metadata": {},
   "outputs": [],
   "source": [
    "data = data[['brandname',\n",
    "    'fueltype', 'hascosts', 'cardistancevalue', 'cartypename', 'catalogvalue', 'modelnameshort',\n",
    "    'orderid', 'vatmargin', 'enginehorsepower', 'bpmvalue', 'duedateapk', 'bodytype',\n",
    "    'xrayvalue', 'remainingbpmvalue', 'equipmentvalue', 'vehicletype', 'costsvalue', 'transmissiontype',\n",
    "    'isimportcar', 'catalogincludingvalue', 'hasdamage', 'minbid', 'batterycapacity', 'hascostsmanual',\n",
    "    'taxliabilitypercentage']]"
   ]
  },
  {
   "cell_type": "code",
   "execution_count": 22,
   "metadata": {},
   "outputs": [
    {
     "data": {
      "text/plain": [
       "['cardistancevalue',\n",
       " 'catalogvalue',\n",
       " 'orderid',\n",
       " 'enginehorsepower',\n",
       " 'bpmvalue',\n",
       " 'xrayvalue',\n",
       " 'remainingbpmvalue',\n",
       " 'equipmentvalue',\n",
       " 'costsvalue',\n",
       " 'catalogincludingvalue',\n",
       " 'minbid']"
      ]
     },
     "execution_count": 22,
     "metadata": {},
     "output_type": "execute_result"
    }
   ],
   "source": [
    "# Automatically identify column types\n",
    "numerical_features = data.select_dtypes(include=['int64', 'float64']).columns.tolist()\n",
    "# numerical_features = [ 'hasairco',\n",
    "#  'hascosts',\n",
    "#  'cardistancevalue']\n",
    "numerical_features"
   ]
  },
  {
   "cell_type": "code",
   "execution_count": 23,
   "metadata": {},
   "outputs": [],
   "source": [
    "categorical_features = data.select_dtypes(include=['object']).columns.tolist()\n",
    "# categorical_features = ['tirerating',\n",
    "#  'electricalrating',\n",
    "#  'fueltype',\n",
    "#  'interiorcolor']"
   ]
  },
  {
   "cell_type": "code",
   "execution_count": 24,
   "metadata": {},
   "outputs": [],
   "source": [
    "boolean_features = data.select_dtypes(include=['bool']).columns.tolist()"
   ]
  },
  {
   "cell_type": "code",
   "execution_count": 48,
   "metadata": {},
   "outputs": [],
   "source": [
    "# Convert specific columns to string dtype\n",
    "#data[['tirerating', 'electricalrating', 'fueltype', 'interiorcolor']] = data[['tirerating', 'electricalrating', 'fueltype', 'interiorcolor']].astype(str)"
   ]
  },
  {
   "cell_type": "code",
   "execution_count": 27,
   "metadata": {},
   "outputs": [],
   "source": [
    "# Preprocessing for numerical features\n",
    "numerical_transformer = Pipeline(steps=[\n",
    "    ('imputer', SimpleImputer(strategy='median')),\n",
    "    ('scaler', StandardScaler())\n",
    "])\n",
    "\n",
    "# Preprocessing for categorical features\n",
    "categorical_transformer = Pipeline(steps=[\n",
    "    #('imputer', SimpleImputer(strategy='constant', fill_value='most frequent')),\n",
    "    ('onehot', OneHotEncoder(handle_unknown='ignore'))\n",
    "])\n",
    "\n",
    "# Define preprocessing for boolean features\n",
    "boolean_transformer = Pipeline(steps=[\n",
    "    ('imputer', SimpleImputer(strategy='most_frequent'))\n",
    "    # No need for additional transformation; booleans are already binary\n",
    "])\n",
    "\n",
    "# Combine preprocessing steps for numerical and categorical features\n",
    "preprocessor = ColumnTransformer(\n",
    "    transformers=[\n",
    "        ('num', numerical_transformer, numerical_features),\n",
    "        ('cat', categorical_transformer, categorical_features + boolean_features)\n",
    "    ]\n",
    ")\n",
    "\n",
    "x = preprocessor.fit_transform(data)"
   ]
  },
  {
   "cell_type": "code",
   "execution_count": 28,
   "metadata": {},
   "outputs": [],
   "source": [
    "from sklearn.preprocessing import StandardScaler, OneHotEncoder\n",
    "from sklearn.compose import ColumnTransformer\n",
    "from sklearn.pipeline import Pipeline\n",
    "from sklearn.impute import SimpleImputer\n",
    "from sklearn.cluster import KMeans\n",
    "import matplotlib.pyplot as plt"
   ]
  },
  {
   "cell_type": "code",
   "execution_count": 29,
   "metadata": {},
   "outputs": [
    {
     "name": "stderr",
     "output_type": "stream",
     "text": [
      "c:\\Users\\DimitrideBoer\\OneDrive - Emixa\\Documents\\XRAYxEmixaHackathon\\venv\\Lib\\site-packages\\sklearn\\cluster\\_kmeans.py:870: FutureWarning: The default value of `n_init` will change from 10 to 'auto' in 1.4. Set the value of `n_init` explicitly to suppress the warning\n",
      "  warnings.warn(\n"
     ]
    },
    {
     "data": {
      "image/png": "[encoded data removed]",
      "text/plain": [
       "<Figure size 800x600 with 1 Axes>"
      ]
     },
     "metadata": {},
     "output_type": "display_data"
    }
   ],
   "source": [
    "from sklearn.cluster import KMeans\n",
    "import matplotlib.pyplot as plt\n",
    "\n",
    "# Determine the optimal number of clusters using the elbow method\n",
    "inertia = []\n",
    "K = range(1, 11)\n",
    "\n",
    "for k in K:\n",
    "    kmeans = KMeans(n_clusters=k, random_state=42)\n",
    "    kmeans.fit(x)\n",
    "    inertia.append(kmeans.inertia_)\n",
    "\n",
    "# Plot the elbow curve\n",
    "plt.figure(figsize=(8, 6))\n",
    "plt.plot(K, inertia, 'bx-')\n",
    "plt.xlabel('Number of clusters')\n",
    "plt.ylabel('Inertia')\n",
    "plt.title('Elbow Method for Optimal Number of Clusters')\n",
    "plt.show()"
   ]
  },
  {
   "cell_type": "code",
   "execution_count": 30,
   "metadata": {},
   "outputs": [],
   "source": [
    "model = Pipeline(steps=[('preprocessor', preprocessor), ('classifier', KMeans(n_clusters=5, random_state=42))])"
   ]
  },
  {
   "cell_type": "code",
   "execution_count": 31,
   "metadata": {},
   "outputs": [
    {
     "name": "stderr",
     "output_type": "stream",
     "text": [
      "c:\\Users\\DimitrideBoer\\OneDrive - Emixa\\Documents\\XRAYxEmixaHackathon\\venv\\Lib\\site-packages\\sklearn\\cluster\\_kmeans.py:870: FutureWarning: The default value of `n_init` will change from 10 to 'auto' in 1.4. Set the value of `n_init` explicitly to suppress the warning\n",
      "  warnings.warn(\n"
     ]
    }
   ],
   "source": [
    "data['cluster'] = model.fit_predict(data)"
   ]
  },
  {
   "cell_type": "markdown",
   "metadata": {},
   "source": [
    "Clustering"
   ]
  },
  {
   "cell_type": "markdown",
   "metadata": {},
   "source": [
    "Save model to ONNX"
   ]
  },
  {
   "cell_type": "code",
   "execution_count": 5,
   "metadata": {},
   "outputs": [],
   "source": [
    "#import onnx"
   ]
  },
  {
   "cell_type": "code",
   "execution_count": 6,
   "metadata": {},
   "outputs": [],
   "source": [
    "#from onnx.defs import onnx_opset_version"
   ]
  },
  {
   "cell_type": "code",
   "execution_count": 7,
   "metadata": {},
   "outputs": [],
   "source": [
    "#onnx_opset_version()"
   ]
  },
  {
   "cell_type": "code",
   "execution_count": 34,
   "metadata": {},
   "outputs": [],
   "source": [
    "from skl2onnx import convert_sklearn\n",
    "from skl2onnx.common.data_types import FloatTensorType, StringTensorType #, BooleanTensorType\n",
    "\n",
    "# Define the initial type for the input\n",
    "initial_type = [('float_input', FloatTensorType([None, data[numerical_features].shape[1]]))]\n",
    "\n",
    "initial_type = [('hasairco', FloatTensorType([1, 1])),\n",
    "                ('hascosts', FloatTensorType([1, 1])),\n",
    "                ('cardistancevalue', FloatTensorType([1, 1])),\n",
    "                ('tirerating', StringTensorType([1, 1])),\n",
    "                ('electricalrating', StringTensorType([1, 1])),\n",
    "                ('fueltype', StringTensorType([1, 1])),\n",
    "                ('interiorcolor', StringTensorType([1, 1]))\n",
    "                ]\n",
    "\n",
    "initial_type = [('cardistancevalue', FloatTensorType([1, 1])),\n",
    "                ('catalogvalue', FloatTensorType([1, 1])),\n",
    "                ('orderid', FloatTensorType([1, 1])),\n",
    "                ('enginehorsepower', FloatTensorType([1, 1])),\n",
    "                ('bpmvalue', FloatTensorType([1, 1])),\n",
    "                ('xrayvalue', FloatTensorType([1, 1])),\n",
    "                ('remainingbpmvalue', FloatTensorType([1, 1])),\n",
    "                ('equipmentvalue', FloatTensorType([1, 1])),\n",
    "                ('costsvalue', FloatTensorType([1, 1])),\n",
    "                ('catalogincludingvalue', FloatTensorType([1, 1])),\n",
    "                ('minbid', FloatTensorType([1, 1])),\n",
    "                ('brandname', StringTensorType([1,1])),\n",
    "                ('fueltype', StringTensorType([1, 1])),\n",
    "                ('cartypename', StringTensorType([1, 1])),\n",
    "                ('modelnameshort', StringTensorType([1, 1])),\n",
    "                ('vatmargin', StringTensorType([1, 1])),\n",
    "                ('modelnameshort', StringTensorType([1, 1])),\n",
    "                ('duedateapk', StringTensorType([1, 1])),\n",
    "                ('bodytype', StringTensorType([1, 1])),\n",
    "                ('vehicletype', StringTensorType([1, 1])),\n",
    "                ('transmissiontype', StringTensorType([1, 1])),\n",
    "                ('batterycapacity', StringTensorType([1, 1])),\n",
    "                ('taxliabilitypercentage', StringTensorType([1, 1])),\n",
    "                ('hascosts', StringTensorType([1, 1])),\n",
    "                ('isimportcar', StringTensorType([1, 1])),\n",
    "                ('hasdamage', StringTensorType([1, 1])),\n",
    "                ('hascostsmanual', StringTensorType([1, 1]))\n",
    "                ]\n",
    "\n",
    "\n",
    "# Convert the KMeans model to ONNX format\n",
    "onnx_model = convert_sklearn(model, initial_types=initial_type)\n",
    "\n",
    "# Save the ONNX model to a file\n",
    "with open(\"kmeans_model9.onnx\", \"wb\") as f:\n",
    "    f.write(onnx_model.SerializeToString())\n"
   ]
  },
  {
   "cell_type": "code",
   "execution_count": 35,
   "metadata": {},
   "outputs": [],
   "source": [
    "import numpy as np"
   ]
  },
  {
   "cell_type": "code",
   "execution_count": 36,
   "metadata": {},
   "outputs": [
    {
     "data": {
      "text/plain": [
       "array([0, 1, 2, 3, 4])"
      ]
     },
     "execution_count": 36,
     "metadata": {},
     "output_type": "execute_result"
    }
   ],
   "source": [
    "np.unique(data['cluster'])"
   ]
  },
  {
   "cell_type": "code",
   "execution_count": 37,
   "metadata": {},
   "outputs": [],
   "source": [
    "bidData = pd.read_csv(r'C:\\Users\\DimitrideBoer\\OneDrive - Emixa\\Documents\\XRAYxEmixaHackathon\\data\\RecommenderSystemNonPivotedWithOrderidLast3Year.csv')"
   ]
  },
  {
   "cell_type": "code",
   "execution_count": 38,
   "metadata": {},
   "outputs": [
    {
     "data": {
      "text/plain": [
       "122775"
      ]
     },
     "execution_count": 38,
     "metadata": {},
     "output_type": "execute_result"
    }
   ],
   "source": [
    "len(data)"
   ]
  },
  {
   "cell_type": "code",
   "execution_count": 39,
   "metadata": {},
   "outputs": [
    {
     "data": {
      "text/plain": [
       "1071636"
      ]
     },
     "execution_count": 39,
     "metadata": {},
     "output_type": "execute_result"
    }
   ],
   "source": [
    "len(bidData)"
   ]
  },
  {
   "cell_type": "code",
   "execution_count": 40,
   "metadata": {},
   "outputs": [
    {
     "data": {
      "text/plain": [
       "Index(['orderid', 'fueltype', 'hascosts', 'cardistancevalue', 'cartypename',\n",
       "       'catalogvalue', 'modelnameshort', 'vatmargin', 'enginehorsepower',\n",
       "       'bpmvalue', 'duedateapk', 'bodytype', 'xrayvalue', 'remainingbpmvalue',\n",
       "       'equipmentvalue', 'vehicletype', 'costsvalue', 'transmissiontype',\n",
       "       'isimportcar', 'catalogincludingvalue', 'hasdamage', 'minbid',\n",
       "       'batterycapacity', 'hascostsmanual', 'taxliabilitypercentage',\n",
       "       'companyname'],\n",
       "      dtype='object')"
      ]
     },
     "execution_count": 40,
     "metadata": {},
     "output_type": "execute_result"
    }
   ],
   "source": [
    "bidData.columns"
   ]
  },
  {
   "cell_type": "code",
   "execution_count": 41,
   "metadata": {},
   "outputs": [],
   "source": [
    "customerCluster = bidData.merge(data[['orderid', 'cluster']], how='left', on='orderid')[['companyname', 'cluster']]"
   ]
  },
  {
   "cell_type": "code",
   "execution_count": 42,
   "metadata": {},
   "outputs": [
    {
     "data": {
      "text/plain": [
       "array([ 0.,  1.,  2.,  3.,  4., nan])"
      ]
     },
     "execution_count": 42,
     "metadata": {},
     "output_type": "execute_result"
    }
   ],
   "source": [
    "np.unique(customerCluster['cluster'])"
   ]
  },
  {
   "cell_type": "code",
   "execution_count": 43,
   "metadata": {},
   "outputs": [],
   "source": [
    "cluster_counts = customerCluster.groupby(['companyname', 'cluster']).size().reset_index(name='count')"
   ]
  },
  {
   "cell_type": "code",
   "execution_count": 44,
   "metadata": {},
   "outputs": [
    {
     "data": {
      "text/html": [
       "<div>\n",
       "<style scoped>\n",
       "    .dataframe tbody tr th:only-of-type {\n",
       "        vertical-align: middle;\n",
       "    }\n",
       "\n",
       "    .dataframe tbody tr th {\n",
       "        vertical-align: top;\n",
       "    }\n",
       "\n",
       "    .dataframe thead th {\n",
       "        text-align: right;\n",
       "    }\n",
       "</style>\n",
       "<table border=\"1\" class=\"dataframe\">\n",
       "  <thead>\n",
       "    <tr style=\"text-align: right;\">\n",
       "      <th></th>\n",
       "      <th>companyname</th>\n",
       "      <th>cluster</th>\n",
       "      <th>count</th>\n",
       "    </tr>\n",
       "  </thead>\n",
       "  <tbody>\n",
       "    <tr>\n",
       "      <th>0</th>\n",
       "      <td>ASV Automobielbedrijven BV</td>\n",
       "      <td>4.0</td>\n",
       "      <td>1</td>\n",
       "    </tr>\n",
       "    <tr>\n",
       "      <th>1</th>\n",
       "      <td>ASV MB Eindhoven BV</td>\n",
       "      <td>0.0</td>\n",
       "      <td>1</td>\n",
       "    </tr>\n",
       "    <tr>\n",
       "      <th>2</th>\n",
       "      <td>ASV MB Eindhoven BV</td>\n",
       "      <td>2.0</td>\n",
       "      <td>1</td>\n",
       "    </tr>\n",
       "    <tr>\n",
       "      <th>3</th>\n",
       "      <td>Ames Autobedrijf BV - Zwijndrecht</td>\n",
       "      <td>4.0</td>\n",
       "      <td>1</td>\n",
       "    </tr>\n",
       "    <tr>\n",
       "      <th>4</th>\n",
       "      <td>Auto Avantgarde</td>\n",
       "      <td>0.0</td>\n",
       "      <td>15</td>\n",
       "    </tr>\n",
       "    <tr>\n",
       "      <th>...</th>\n",
       "      <td>...</td>\n",
       "      <td>...</td>\n",
       "      <td>...</td>\n",
       "    </tr>\n",
       "    <tr>\n",
       "      <th>417</th>\n",
       "      <td>van der Poel Occasions</td>\n",
       "      <td>4.0</td>\n",
       "      <td>147</td>\n",
       "    </tr>\n",
       "    <tr>\n",
       "      <th>418</th>\n",
       "      <td>vd Boon Auto's</td>\n",
       "      <td>0.0</td>\n",
       "      <td>2</td>\n",
       "    </tr>\n",
       "    <tr>\n",
       "      <th>419</th>\n",
       "      <td>vd Boon Auto's</td>\n",
       "      <td>1.0</td>\n",
       "      <td>609</td>\n",
       "    </tr>\n",
       "    <tr>\n",
       "      <th>420</th>\n",
       "      <td>vd Boon Auto's</td>\n",
       "      <td>2.0</td>\n",
       "      <td>14</td>\n",
       "    </tr>\n",
       "    <tr>\n",
       "      <th>421</th>\n",
       "      <td>vd Boon Auto's</td>\n",
       "      <td>4.0</td>\n",
       "      <td>315</td>\n",
       "    </tr>\n",
       "  </tbody>\n",
       "</table>\n",
       "<p>422 rows × 3 columns</p>\n",
       "</div>"
      ],
      "text/plain": [
       "                           companyname  cluster  count\n",
       "0           ASV Automobielbedrijven BV      4.0      1\n",
       "1                  ASV MB Eindhoven BV      0.0      1\n",
       "2                  ASV MB Eindhoven BV      2.0      1\n",
       "3    Ames Autobedrijf BV - Zwijndrecht      4.0      1\n",
       "4                      Auto Avantgarde      0.0     15\n",
       "..                                 ...      ...    ...\n",
       "417             van der Poel Occasions      4.0    147\n",
       "418                     vd Boon Auto's      0.0      2\n",
       "419                     vd Boon Auto's      1.0    609\n",
       "420                     vd Boon Auto's      2.0     14\n",
       "421                     vd Boon Auto's      4.0    315\n",
       "\n",
       "[422 rows x 3 columns]"
      ]
     },
     "execution_count": 44,
     "metadata": {},
     "output_type": "execute_result"
    }
   ],
   "source": [
    "cluster_counts"
   ]
  },
  {
   "cell_type": "code",
   "execution_count": 45,
   "metadata": {},
   "outputs": [
    {
     "name": "stdout",
     "output_type": "stream",
     "text": [
      "cluster                            0.0   1.0   2.0  3.0   4.0\n",
      "companyname                                                  \n",
      "ASV Automobielbedrijven BV           0     0     0    0     1\n",
      "ASV MB Eindhoven BV                  1     0     1    0     0\n",
      "Ames Autobedrijf BV - Zwijndrecht    0     0     0    0     1\n",
      "Auto Avantgarde                     15    63     0    0     1\n",
      "Auto Druten B.V.                    84    76  1059    0  1483\n",
      "...                                ...   ...   ...  ...   ...\n",
      "van Dam Auto's                     375   953    26    0   499\n",
      "van Dijk Automotive B.V.           265  1252   287    0  1712\n",
      "van den Hurk Auto's                803   686    34    0   389\n",
      "van der Poel Occasions              49   490    65    0   147\n",
      "vd Boon Auto's                       2   609    14    0   315\n",
      "\n",
      "[127 rows x 5 columns]\n"
     ]
    }
   ],
   "source": [
    "# Grouping by 'companyname' and 'cluster' and counting occurrences\n",
    "cluster_counts2 = customerCluster.groupby(['companyname', 'cluster']).size().unstack(fill_value=0)\n",
    "\n",
    "# Display the result\n",
    "print(cluster_counts2)"
   ]
  },
  {
   "cell_type": "code",
   "execution_count": 46,
   "metadata": {},
   "outputs": [
    {
     "name": "stdout",
     "output_type": "stream",
     "text": [
      "                           companyname significant_clusters\n",
      "0           ASV Automobielbedrijven BV                [4.0]\n",
      "1                  ASV MB Eindhoven BV           [0.0, 2.0]\n",
      "2    Ames Autobedrijf BV - Zwijndrecht                [4.0]\n",
      "3                      Auto Avantgarde                [1.0]\n",
      "4                     Auto Druten B.V.           [2.0, 4.0]\n",
      "..                                 ...                  ...\n",
      "122                     van Dam Auto's           [1.0, 4.0]\n",
      "123           van Dijk Automotive B.V.           [1.0, 4.0]\n",
      "124                van den Hurk Auto's      [0.0, 1.0, 4.0]\n",
      "125             van der Poel Occasions                [1.0]\n",
      "126                     vd Boon Auto's           [1.0, 4.0]\n",
      "\n",
      "[127 rows x 2 columns]\n"
     ]
    }
   ],
   "source": [
    "threshold_percentage = 0.4\n",
    "\n",
    "\n",
    "# Calculate the maximum value for each company\n",
    "max_values = cluster_counts2.max(axis=1)\n",
    "\n",
    "# Create a boolean mask to filter out clusters below the threshold\n",
    "mask = cluster_counts2.apply(lambda x: x >= threshold_percentage * max_values[x.name], axis=1)\n",
    "\n",
    "# Apply the mask to the DataFrame\n",
    "filtered_df = cluster_counts2.where(mask, other=0)\n",
    "\n",
    "# Create a list of clusters for each company\n",
    "cluster_list_df = filtered_df.apply(lambda row: [col for col in filtered_df.columns if row[col] > 0], axis=1).reset_index()\n",
    "\n",
    "# Rename the columns\n",
    "cluster_list_df.columns = ['companyname', 'significant_clusters']\n",
    "\n",
    "# Display the result\n",
    "print(cluster_list_df)\n",
    "cluster_list_df.to_csv('companyClusterAllocation2.csv')"
   ]
  },
  {
   "cell_type": "markdown",
   "metadata": {},
   "source": [
    "Building the Recommender System"
   ]
  },
  {
   "cell_type": "markdown",
   "metadata": {},
   "source": [
    "Evaluation"
   ]
  },
  {
   "cell_type": "code",
   "execution_count": null,
   "metadata": {},
   "outputs": [],
   "source": [
    "from sklearn.model_selection import train_test_split\n",
    "from sklearn.metrics import precision_score, recall_score, f1_score\n",
    "\n",
    "# Split the data\n",
    "train_data, test_data = train_test_split(data, test_size=0.2, random_state=42)\n",
    "\n",
    "# Implement the recommender system on the training set\n",
    "# (same steps as above, but using train_data instead of the entire dataset)\n",
    "\n",
    "# Generate recommendations for users in the test set and evaluate\n",
    "# (Assume we have a function `evaluate_recommendations` to calculate the metrics)\n",
    "\n",
    "# Evaluate the recommender system\n",
    "def evaluate_recommendations(test_data):\n",
    "    y_true = []\n",
    "    y_pred = []\n",
    "    \n",
    "    for _, row in test_data.iterrows():\n",
    "        user_id = row['xbs$companyid']\n",
    "        true_car_id = row['orderId']\n",
    "        \n",
    "        recommended_cars = recommend_cars(user_id)\n",
    "        recommended_car_ids = recommended_cars['car_id'].values\n",
    "        \n",
    "        y_true.append(true_car_id)\n",
    "        y_pred.append(true_car_id in recommended_car_ids)\n",
    "    \n",
    "    precision = precision_score(y_true, y_pred, average='binary')\n",
    "    recall = recall_score(y_true, y_pred, average='binary')\n",
    "    f1 = f1_score(y_true, y_pred, average='binary')\n",
    "    \n",
    "    return precision, recall, f1\n",
    "\n",
    "precision, recall, f1 = evaluate_recommendations(test_data)\n",
    "print(f'Precision: {precision:.2f}, Recall: {recall:.2f}, F1-score: {f1:.2f}')\n"
   ]
  }
 ],
 "metadata": {
  "kernelspec": {
   "display_name": "venv",
   "language": "python",
   "name": "python3"
  },
  "language_info": {
   "codemirror_mode": {
    "name": "ipython",
    "version": 3
   },
   "file_extension": ".py",
   "mimetype": "text/x-python",
   "name": "python",
   "nbconvert_exporter": "python",
   "pygments_lexer": "ipython3",
   "version": "3.11.9"
  }
 },
 "nbformat": 4,
 "nbformat_minor": 2
}
