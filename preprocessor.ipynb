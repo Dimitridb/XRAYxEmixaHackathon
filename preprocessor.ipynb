{
 "cells": [
  {
   "cell_type": "markdown",
   "id": "09fea2aa",
   "metadata": {},
   "source": [
    "## Create ONNX Preprocessor"
   ]
  },
  {
   "cell_type": "code",
   "execution_count": 1,
   "id": "bfeef48e",
   "metadata": {},
   "outputs": [
    {
     "name": "stdout",
     "output_type": "stream",
     "text": [
      "Python 3.6.13\n"
     ]
    }
   ],
   "source": [
    "import sys\n",
    "\n",
    "!{sys.executable} --version"
   ]
  },
  {
   "cell_type": "code",
   "execution_count": 2,
   "id": "c2912b04",
   "metadata": {},
   "outputs": [
    {
     "name": "stdout",
     "output_type": "stream",
     "text": [
      "  % Total    % Received % Xferd  Average Speed   Time    Time     Time  Current\n",
      "                                 Dload  Upload   Total   Spent    Left  Speed\n",
      "100 2596k  100 2596k    0     0  74.5M      0 --:--:-- --:--:-- --:--:-- 74.5M\n",
      "ERROR: This script does not work on Python 3.6 The minimum supported Python version is 3.7. Please use https://bootstrap.pypa.io/pip/3.6/get-pip.py instead.\n",
      "Requirement already satisfied: pip in /home/ec2-user/anaconda3/envs/python3/lib/python3.6/site-packages (21.3.1)\n",
      "Requirement already satisfied: setuptools in /home/ec2-user/anaconda3/envs/python3/lib/python3.6/site-packages (59.6.0)\n"
     ]
    }
   ],
   "source": [
    "!curl https://bootstrap.pypa.io/get-pip.py | python\n",
    "!{sys.executable} -m pip install --upgrade pip\n",
    "!{sys.executable} -m pip install --upgrade setuptools"
   ]
  },
  {
   "cell_type": "code",
   "execution_count": 3,
   "id": "0cef6867",
   "metadata": {},
   "outputs": [
    {
     "name": "stdout",
     "output_type": "stream",
     "text": [
      "Requirement already satisfied: onnx==1.11.0 in /home/ec2-user/anaconda3/envs/python3/lib/python3.6/site-packages (1.11.0)\n",
      "Requirement already satisfied: typing-extensions>=3.6.2.1 in /home/ec2-user/anaconda3/envs/python3/lib/python3.6/site-packages (from onnx==1.11.0) (4.0.1)\n",
      "Requirement already satisfied: protobuf>=3.12.2 in /home/ec2-user/anaconda3/envs/python3/lib/python3.6/site-packages (from onnx==1.11.0) (3.15.2)\n",
      "Requirement already satisfied: numpy>=1.16.6 in /home/ec2-user/anaconda3/envs/python3/lib/python3.6/site-packages (from onnx==1.11.0) (1.19.5)\n",
      "Requirement already satisfied: six>=1.9 in /home/ec2-user/anaconda3/envs/python3/lib/python3.6/site-packages (from protobuf>=3.12.2->onnx==1.11.0) (1.15.0)\n",
      "Requirement already satisfied: onnxruntime==1.10.0 in /home/ec2-user/anaconda3/envs/python3/lib/python3.6/site-packages (1.10.0)\n",
      "Requirement already satisfied: flatbuffers in /home/ec2-user/anaconda3/envs/python3/lib/python3.6/site-packages (from onnxruntime==1.10.0) (2.0)\n",
      "Requirement already satisfied: protobuf in /home/ec2-user/anaconda3/envs/python3/lib/python3.6/site-packages (from onnxruntime==1.10.0) (3.15.2)\n",
      "Requirement already satisfied: numpy>=1.16.6 in /home/ec2-user/anaconda3/envs/python3/lib/python3.6/site-packages (from onnxruntime==1.10.0) (1.19.5)\n",
      "Requirement already satisfied: six>=1.9 in /home/ec2-user/anaconda3/envs/python3/lib/python3.6/site-packages (from protobuf->onnxruntime==1.10.0) (1.15.0)\n"
     ]
    }
   ],
   "source": [
    "!{sys.executable} -m pip install onnx==1.11.0\n",
    "!{sys.executable} -m pip install onnxruntime==1.10.0"
   ]
  },
  {
   "cell_type": "code",
   "execution_count": 4,
   "id": "5ab631c2",
   "metadata": {},
   "outputs": [],
   "source": [
    "from onnx import helper, version_converter\n",
    "from onnx import TensorProto\n",
    "from onnx.defs import onnx_opset_version\n",
    "\n",
    "import onnxruntime as rt\n",
    "import onnx\n",
    "import numpy as np"
   ]
  },
  {
   "cell_type": "code",
   "execution_count": 5,
   "id": "cbb61d99",
   "metadata": {},
   "outputs": [
    {
     "data": {
      "text/plain": [
       "16"
      ]
     },
     "execution_count": 5,
     "metadata": {},
     "output_type": "execute_result"
    }
   ],
   "source": [
    "onnx_opset_version()"
   ]
  },
  {
   "cell_type": "code",
   "execution_count": 6,
   "id": "82e984e4",
   "metadata": {},
   "outputs": [],
   "source": [
    "X = helper.make_tensor_value_info('X', TensorProto.FLOAT, [1, 3, None, None])\n",
    "sizes = helper.make_tensor_value_info('sizes', TensorProto.INT64, [4])\n",
    "n1 = onnx.helper.make_node(\n",
    "    'Resize',\n",
    "    inputs=['X', '', '', 'sizes'],\n",
    "    outputs=['T1'],\n",
    "    coordinate_transformation_mode='tf_crop_and_resize',\n",
    "    name='n1'\n",
    ")\n",
    "\n",
    "scale = helper.make_tensor_value_info('scale', TensorProto.FLOAT, [3])\n",
    "bias = helper.make_tensor_value_info('bias', TensorProto.FLOAT, [3])\n",
    "mean = helper.make_tensor_value_info('mean', TensorProto.FLOAT, [3])\n",
    "var = helper.make_tensor_value_info('var', TensorProto.FLOAT, [3])\n",
    "n2 = onnx.helper.make_node(\n",
    "    'BatchNormalization',\n",
    "    inputs=['T1', 'scale', 'bias', 'mean', 'var'],\n",
    "    outputs=['Y'],\n",
    "    epsilon=0.0,\n",
    "    momentum=0.0,\n",
    "    name='n2'\n",
    ")\n",
    "\n",
    "Y = helper.make_tensor_value_info('Y', TensorProto.FLOAT, [1, 3, 224, 224])\n",
    "\n",
    "# Create the graph (GraphProto)\n",
    "graph_def = helper.make_graph(\n",
    "    [n1, n2],\n",
    "    'preprocessor',\n",
    "    [X, sizes, scale, bias, mean, var],\n",
    "    [Y]\n",
    ")"
   ]
  },
  {
   "cell_type": "code",
   "execution_count": 7,
   "id": "249a811a",
   "metadata": {},
   "outputs": [
    {
     "data": {
      "text/plain": [
       "ir_version: 8\n",
       "producer_name: \"onnx-example\"\n",
       "graph {\n",
       "  node {\n",
       "    input: \"X\"\n",
       "    input: \"\"\n",
       "    input: \"\"\n",
       "    input: \"sizes\"\n",
       "    output: \"T1\"\n",
       "    name: \"n1\"\n",
       "    op_type: \"Resize\"\n",
       "    attribute {\n",
       "      name: \"coordinate_transformation_mode\"\n",
       "      s: \"tf_crop_and_resize\"\n",
       "      type: STRING\n",
       "    }\n",
       "  }\n",
       "  node {\n",
       "    input: \"T1\"\n",
       "    input: \"scale\"\n",
       "    input: \"bias\"\n",
       "    input: \"mean\"\n",
       "    input: \"var\"\n",
       "    output: \"Y\"\n",
       "    name: \"n2\"\n",
       "    op_type: \"BatchNormalization\"\n",
       "    attribute {\n",
       "      name: \"epsilon\"\n",
       "      f: 0.0\n",
       "      type: FLOAT\n",
       "    }\n",
       "    attribute {\n",
       "      name: \"momentum\"\n",
       "      f: 0.0\n",
       "      type: FLOAT\n",
       "    }\n",
       "  }\n",
       "  name: \"preprocessor\"\n",
       "  input {\n",
       "    name: \"X\"\n",
       "    type {\n",
       "      tensor_type {\n",
       "        elem_type: 1\n",
       "        shape {\n",
       "          dim {\n",
       "            dim_value: 1\n",
       "          }\n",
       "          dim {\n",
       "            dim_value: 3\n",
       "          }\n",
       "          dim {\n",
       "          }\n",
       "          dim {\n",
       "          }\n",
       "        }\n",
       "      }\n",
       "    }\n",
       "  }\n",
       "  input {\n",
       "    name: \"sizes\"\n",
       "    type {\n",
       "      tensor_type {\n",
       "        elem_type: 7\n",
       "        shape {\n",
       "          dim {\n",
       "            dim_value: 4\n",
       "          }\n",
       "        }\n",
       "      }\n",
       "    }\n",
       "  }\n",
       "  input {\n",
       "    name: \"scale\"\n",
       "    type {\n",
       "      tensor_type {\n",
       "        elem_type: 1\n",
       "        shape {\n",
       "          dim {\n",
       "            dim_value: 3\n",
       "          }\n",
       "        }\n",
       "      }\n",
       "    }\n",
       "  }\n",
       "  input {\n",
       "    name: \"bias\"\n",
       "    type {\n",
       "      tensor_type {\n",
       "        elem_type: 1\n",
       "        shape {\n",
       "          dim {\n",
       "            dim_value: 3\n",
       "          }\n",
       "        }\n",
       "      }\n",
       "    }\n",
       "  }\n",
       "  input {\n",
       "    name: \"mean\"\n",
       "    type {\n",
       "      tensor_type {\n",
       "        elem_type: 1\n",
       "        shape {\n",
       "          dim {\n",
       "            dim_value: 3\n",
       "          }\n",
       "        }\n",
       "      }\n",
       "    }\n",
       "  }\n",
       "  input {\n",
       "    name: \"var\"\n",
       "    type {\n",
       "      tensor_type {\n",
       "        elem_type: 1\n",
       "        shape {\n",
       "          dim {\n",
       "            dim_value: 3\n",
       "          }\n",
       "        }\n",
       "      }\n",
       "    }\n",
       "  }\n",
       "  output {\n",
       "    name: \"Y\"\n",
       "    type {\n",
       "      tensor_type {\n",
       "        elem_type: 1\n",
       "        shape {\n",
       "          dim {\n",
       "            dim_value: 1\n",
       "          }\n",
       "          dim {\n",
       "            dim_value: 3\n",
       "          }\n",
       "          dim {\n",
       "            dim_value: 224\n",
       "          }\n",
       "          dim {\n",
       "            dim_value: 224\n",
       "          }\n",
       "        }\n",
       "      }\n",
       "    }\n",
       "  }\n",
       "}\n",
       "opset_import {\n",
       "  version: 16\n",
       "}"
      ]
     },
     "execution_count": 7,
     "metadata": {},
     "output_type": "execute_result"
    }
   ],
   "source": [
    "# Create the model (ModelProto)\n",
    "model_def = helper.make_model(graph_def, producer_name='onnx-example')\n",
    "model_def"
   ]
  },
  {
   "cell_type": "code",
   "execution_count": 8,
   "id": "018f6b52",
   "metadata": {},
   "outputs": [
    {
     "data": {
      "text/plain": [
       "ir_version: 8\n",
       "producer_name: \"onnx-example\"\n",
       "graph {\n",
       "  node {\n",
       "    input: \"X\"\n",
       "    input: \"\"\n",
       "    input: \"\"\n",
       "    input: \"sizes\"\n",
       "    output: \"T1\"\n",
       "    name: \"n1\"\n",
       "    op_type: \"Resize\"\n",
       "    attribute {\n",
       "      name: \"coordinate_transformation_mode\"\n",
       "      s: \"tf_crop_and_resize\"\n",
       "      type: STRING\n",
       "    }\n",
       "  }\n",
       "  node {\n",
       "    input: \"T1\"\n",
       "    input: \"scale\"\n",
       "    input: \"bias\"\n",
       "    input: \"mean\"\n",
       "    input: \"var\"\n",
       "    output: \"Y\"\n",
       "    name: \"n2\"\n",
       "    op_type: \"BatchNormalization\"\n",
       "    attribute {\n",
       "      name: \"epsilon\"\n",
       "      f: 0.0\n",
       "      type: FLOAT\n",
       "    }\n",
       "    attribute {\n",
       "      name: \"momentum\"\n",
       "      f: 0.0\n",
       "      type: FLOAT\n",
       "    }\n",
       "  }\n",
       "  name: \"preprocessor\"\n",
       "  input {\n",
       "    name: \"X\"\n",
       "    type {\n",
       "      tensor_type {\n",
       "        elem_type: 1\n",
       "        shape {\n",
       "          dim {\n",
       "            dim_value: 1\n",
       "          }\n",
       "          dim {\n",
       "            dim_value: 3\n",
       "          }\n",
       "          dim {\n",
       "          }\n",
       "          dim {\n",
       "          }\n",
       "        }\n",
       "      }\n",
       "    }\n",
       "  }\n",
       "  input {\n",
       "    name: \"sizes\"\n",
       "    type {\n",
       "      tensor_type {\n",
       "        elem_type: 7\n",
       "        shape {\n",
       "          dim {\n",
       "            dim_value: 4\n",
       "          }\n",
       "        }\n",
       "      }\n",
       "    }\n",
       "  }\n",
       "  input {\n",
       "    name: \"scale\"\n",
       "    type {\n",
       "      tensor_type {\n",
       "        elem_type: 1\n",
       "        shape {\n",
       "          dim {\n",
       "            dim_value: 3\n",
       "          }\n",
       "        }\n",
       "      }\n",
       "    }\n",
       "  }\n",
       "  input {\n",
       "    name: \"bias\"\n",
       "    type {\n",
       "      tensor_type {\n",
       "        elem_type: 1\n",
       "        shape {\n",
       "          dim {\n",
       "            dim_value: 3\n",
       "          }\n",
       "        }\n",
       "      }\n",
       "    }\n",
       "  }\n",
       "  input {\n",
       "    name: \"mean\"\n",
       "    type {\n",
       "      tensor_type {\n",
       "        elem_type: 1\n",
       "        shape {\n",
       "          dim {\n",
       "            dim_value: 3\n",
       "          }\n",
       "        }\n",
       "      }\n",
       "    }\n",
       "  }\n",
       "  input {\n",
       "    name: \"var\"\n",
       "    type {\n",
       "      tensor_type {\n",
       "        elem_type: 1\n",
       "        shape {\n",
       "          dim {\n",
       "            dim_value: 3\n",
       "          }\n",
       "        }\n",
       "      }\n",
       "    }\n",
       "  }\n",
       "  output {\n",
       "    name: \"Y\"\n",
       "    type {\n",
       "      tensor_type {\n",
       "        elem_type: 1\n",
       "        shape {\n",
       "          dim {\n",
       "            dim_value: 1\n",
       "          }\n",
       "          dim {\n",
       "            dim_value: 3\n",
       "          }\n",
       "          dim {\n",
       "            dim_value: 224\n",
       "          }\n",
       "          dim {\n",
       "            dim_value: 224\n",
       "          }\n",
       "        }\n",
       "      }\n",
       "    }\n",
       "  }\n",
       "  value_info {\n",
       "    name: \"T1\"\n",
       "    type {\n",
       "      tensor_type {\n",
       "        elem_type: 1\n",
       "        shape {\n",
       "          dim {\n",
       "            dim_param: \"unk__0\"\n",
       "          }\n",
       "          dim {\n",
       "            dim_param: \"unk__1\"\n",
       "          }\n",
       "          dim {\n",
       "            dim_param: \"unk__2\"\n",
       "          }\n",
       "          dim {\n",
       "            dim_param: \"unk__3\"\n",
       "          }\n",
       "        }\n",
       "      }\n",
       "    }\n",
       "  }\n",
       "}\n",
       "opset_import {\n",
       "  domain: \"\"\n",
       "  version: 15\n",
       "}"
      ]
     },
     "execution_count": 8,
     "metadata": {},
     "output_type": "execute_result"
    }
   ],
   "source": [
    "from onnx import version_converter\n",
    "\n",
    "converted_model = version_converter.convert_version(model_def, 15)\n",
    "converted_model"
   ]
  },
  {
   "cell_type": "code",
   "execution_count": 9,
   "id": "5cd14286",
   "metadata": {},
   "outputs": [],
   "source": [
    "# model_def.ir_version = 7\n",
    "# model_def.opset_import[0].version = 14"
   ]
  },
  {
   "cell_type": "code",
   "execution_count": 10,
   "id": "1fe6d397",
   "metadata": {},
   "outputs": [],
   "source": [
    "onnx.checker.check_model(converted_model)"
   ]
  },
  {
   "cell_type": "code",
   "execution_count": 11,
   "id": "1a918194",
   "metadata": {},
   "outputs": [],
   "source": [
    "onnx.save(converted_model, 'preprocessor.onnx')"
   ]
  },
  {
   "cell_type": "markdown",
   "id": "a381abf5",
   "metadata": {},
   "source": [
    "## Validate with ONNX Runtime"
   ]
  },
  {
   "cell_type": "code",
   "execution_count": 12,
   "id": "0b569753",
   "metadata": {},
   "outputs": [],
   "source": [
    "preprocessor = rt.InferenceSession('preprocessor.onnx')"
   ]
  },
  {
   "cell_type": "code",
   "execution_count": 13,
   "id": "16a82bc2",
   "metadata": {},
   "outputs": [],
   "source": [
    "data = np.array(\n",
    "    [[\n",
    "        [\n",
    "            [1, 2, 3, 4],\n",
    "            [1, 6, 7, 8],\n",
    "            [1, 10, 11, 12], \n",
    "        ],\n",
    "        [\n",
    "            [1, 2, 3, 4],\n",
    "            [1, 6, 7, 8],\n",
    "            [1, 10, 11, 12], \n",
    "        ],\n",
    "        [\n",
    "            [1, 2, 3, 4],\n",
    "            [1, 6, 7, 8],\n",
    "            [1, 10, 11, 12], \n",
    "        ]\n",
    "    ]]\n",
    ")\n",
    "\n",
    "sizes = np.array([1, 3, 224, 224])\n",
    "scale = np.array([1, 1, 1])\n",
    "bias = np.array([0, 0, 0])\n",
    "mean = np.array([0.485, 0.456, 0.406])\n",
    "var = np.sqrt(np.array([0.229, 0.224, 0.225]))"
   ]
  },
  {
   "cell_type": "code",
   "execution_count": 14,
   "id": "93724299",
   "metadata": {},
   "outputs": [
    {
     "data": {
      "text/plain": [
       "array([0.47853944, 0.47328638, 0.47434165])"
      ]
     },
     "execution_count": 14,
     "metadata": {},
     "output_type": "execute_result"
    }
   ],
   "source": [
    "var"
   ]
  },
  {
   "cell_type": "code",
   "execution_count": 15,
   "id": "f3e45878",
   "metadata": {},
   "outputs": [],
   "source": [
    "input_name = preprocessor.get_inputs()[0].name\n",
    "size_name = preprocessor.get_inputs()[1].name\n",
    "scale_name = preprocessor.get_inputs()[2].name\n",
    "bias_name = preprocessor.get_inputs()[3].name\n",
    "mean_name = preprocessor.get_inputs()[4].name\n",
    "var_name = preprocessor.get_inputs()[5].name\n",
    "label_name = preprocessor.get_outputs()[0].name\n",
    "\n",
    "pred_onx = preprocessor.run([label_name], {\n",
    "    input_name: data.astype(np.float32),\n",
    "    size_name: sizes.astype(np.int64),\n",
    "    scale_name: scale.astype(np.float32),\n",
    "    bias_name: bias.astype(np.float32),\n",
    "    mean_name: mean.astype(np.float32),\n",
    "    var_name: var.astype(np.float32),\n",
    "})[0]"
   ]
  },
  {
   "cell_type": "code",
   "execution_count": 16,
   "id": "f048f858",
   "metadata": {},
   "outputs": [
    {
     "data": {
      "text/plain": [
       "(1, 3, 224, 224)"
      ]
     },
     "execution_count": 16,
     "metadata": {},
     "output_type": "execute_result"
    }
   ],
   "source": [
    "pred_onx.shape"
   ]
  },
  {
   "cell_type": "code",
   "execution_count": 17,
   "id": "67a12f74",
   "metadata": {},
   "outputs": [
    {
     "data": {
      "text/plain": [
       "array([[[[ 0.74447197,  0.74447197,  0.74447197, ...,  5.081202  ,\n",
       "           5.081202  ,  5.081202  ],\n",
       "         [ 0.74447197,  0.74447197,  0.74447197, ...,  5.081202  ,\n",
       "           5.081202  ,  5.081202  ],\n",
       "         [ 0.74447197,  0.74447197,  0.74447197, ...,  5.081202  ,\n",
       "           5.081202  ,  5.081202  ],\n",
       "         ...,\n",
       "         [ 0.74447197,  0.74447197,  0.74447197, ..., 16.645815  ,\n",
       "          16.645815  , 16.645815  ],\n",
       "         [ 0.74447197,  0.74447197,  0.74447197, ..., 16.645815  ,\n",
       "          16.645815  , 16.645815  ],\n",
       "         [ 0.74447197,  0.74447197,  0.74447197, ..., 16.645815  ,\n",
       "          16.645815  , 16.645815  ]],\n",
       "\n",
       "        [[ 0.7907458 ,  0.7907458 ,  0.7907458 , ...,  5.1514764 ,\n",
       "           5.1514764 ,  5.1514764 ],\n",
       "         [ 0.7907458 ,  0.7907458 ,  0.7907458 , ...,  5.1514764 ,\n",
       "           5.1514764 ,  5.1514764 ],\n",
       "         [ 0.7907458 ,  0.7907458 ,  0.7907458 , ...,  5.1514764 ,\n",
       "           5.1514764 ,  5.1514764 ],\n",
       "         ...,\n",
       "         [ 0.7907458 ,  0.7907458 ,  0.7907458 , ..., 16.78009   ,\n",
       "          16.78009   , 16.78009   ],\n",
       "         [ 0.7907458 ,  0.7907458 ,  0.7907458 , ..., 16.78009   ,\n",
       "          16.78009   , 16.78009   ],\n",
       "         [ 0.7907458 ,  0.7907458 ,  0.7907458 , ..., 16.78009   ,\n",
       "          16.78009   , 16.78009   ]],\n",
       "\n",
       "        [[ 0.8624637 ,  0.8624637 ,  0.8624637 , ...,  5.218341  ,\n",
       "           5.218341  ,  5.218341  ],\n",
       "         [ 0.8624637 ,  0.8624637 ,  0.8624637 , ...,  5.218341  ,\n",
       "           5.218341  ,  5.218341  ],\n",
       "         [ 0.8624637 ,  0.8624637 ,  0.8624637 , ...,  5.218341  ,\n",
       "           5.218341  ,  5.218341  ],\n",
       "         ...,\n",
       "         [ 0.8624637 ,  0.8624637 ,  0.8624637 , ..., 16.834015  ,\n",
       "          16.834015  , 16.834015  ],\n",
       "         [ 0.8624637 ,  0.8624637 ,  0.8624637 , ..., 16.834015  ,\n",
       "          16.834015  , 16.834015  ],\n",
       "         [ 0.8624637 ,  0.8624637 ,  0.8624637 , ..., 16.834015  ,\n",
       "          16.834015  , 16.834015  ]]]], dtype=float32)"
      ]
     },
     "execution_count": 17,
     "metadata": {},
     "output_type": "execute_result"
    }
   ],
   "source": [
    "pred_onx"
   ]
  },
  {
   "cell_type": "markdown",
   "id": "94766d87",
   "metadata": {},
   "source": [
    "## Merge preprocessor and the model"
   ]
  },
  {
   "cell_type": "code",
   "execution_count": 18,
   "id": "1bc7f192",
   "metadata": {},
   "outputs": [],
   "source": [
    "preporcessor = onnx.load('preprocessor.onnx')"
   ]
  },
  {
   "cell_type": "code",
   "execution_count": 6,
   "id": "f96c52c7",
   "metadata": {},
   "outputs": [
    {
     "data": {
      "text/plain": [
       "[domain: \"\"\n",
       "version: 12\n",
       ", domain: \"com.microsoft\"\n",
       "version: 1\n",
       ", domain: \"com.microsoft.mlfeaturizers\"\n",
       "version: 1\n",
       ", domain: \"com.microsoft.nchwc\"\n",
       "version: 1\n",
       ", domain: \"ai.onnx.training\"\n",
       "version: 1\n",
       ", domain: \"ai.onnx.preview.training\"\n",
       "version: 1\n",
       ", domain: \"com.microsoft.experimental\"\n",
       "version: 1\n",
       ", domain: \"ai.onnx.ml\"\n",
       "version: 2\n",
       "]"
      ]
     },
     "execution_count": 6,
     "metadata": {},
     "output_type": "execute_result"
    }
   ],
   "source": [
    "resnet = onnx.load('resnet50-v1-12-int8.onnx')\n",
    "resnet.opset_import"
   ]
  },
  {
   "cell_type": "code",
   "execution_count": null,
   "id": "3ecfdb4c",
   "metadata": {},
   "outputs": [],
   "source": [
    "converted_resnet = version_converter.convert_version(resnet, 12)\n",
    "converted_resnet.opset_import"
   ]
  },
  {
   "cell_type": "code",
   "execution_count": 40,
   "id": "128becfd",
   "metadata": {},
   "outputs": [
    {
     "data": {
      "text/plain": [
       "4"
      ]
     },
     "execution_count": 40,
     "metadata": {},
     "output_type": "execute_result"
    }
   ],
   "source": [
    "resnet.ir_version"
   ]
  },
  {
   "cell_type": "code",
   "execution_count": 41,
   "id": "5b07130d",
   "metadata": {},
   "outputs": [],
   "source": [
    "resnet.opset_import[0].version = 14"
   ]
  },
  {
   "cell_type": "code",
   "execution_count": 42,
   "id": "f09c46f6",
   "metadata": {},
   "outputs": [],
   "source": [
    "resnet.ir_version = 7"
   ]
  },
  {
   "cell_type": "code",
   "execution_count": 43,
   "id": "97383f46",
   "metadata": {},
   "outputs": [],
   "source": [
    "combined_model = onnx.compose.merge_models(\n",
    "    preporcessor, resnet,\n",
    "    io_map=[('Y', 'data')]\n",
    ")"
   ]
  },
  {
   "cell_type": "code",
   "execution_count": 44,
   "id": "760eaa75",
   "metadata": {},
   "outputs": [],
   "source": [
    "onnx.save(combined_model, 'combined_resnet.onnx')"
   ]
  },
  {
   "cell_type": "code",
   "execution_count": null,
   "id": "6ad00fcd",
   "metadata": {},
   "outputs": [],
   "source": []
  }
 ],
 "metadata": {
  "kernelspec": {
   "display_name": "conda_python3",
   "language": "python",
   "name": "conda_python3"
  },
  "language_info": {
   "codemirror_mode": {
    "name": "ipython",
    "version": 3
   },
   "file_extension": ".py",
   "mimetype": "text/x-python",
   "name": "python",
   "nbconvert_exporter": "python",
   "pygments_lexer": "ipython3",
   "version": "3.10.14"
  }
 },
 "nbformat": 4,
 "nbformat_minor": 5
}
